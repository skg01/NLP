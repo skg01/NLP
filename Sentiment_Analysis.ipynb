{
 "cells": [
  {
   "cell_type": "markdown",
   "metadata": {},
   "source": [
    "## Table of Contents\n",
    "\n",
    "1. Data cleaning and formatting\n",
    "2. Exploratory data analysis\n",
    "3. Feature engineering and selection\n",
    "4. Compare several machine learning models on a performance metric\n",
    "5. Perform hyperparameter tuning on the best model\n",
    "6. Evaluate the best model on the testing set\n",
    "7. Deep Learning Model\n",
    "\n",
    "\n",
    "\n",
    "----------------------------------------------------------------------------------\n",
    "----------------------------------------------------------------------------------"
   ]
  },
  {
   "cell_type": "markdown",
   "metadata": {},
   "source": [
    "### Problem Description --> Predict Sentiments of Tweets\n",
    "________________________________________\n",
    "\n",
    "\n",
    "Given dataset contains data of tweets on various airline’s twitter handles.\n",
    "It contains a total of 12 columns, out of which one column specifies the sentiment of the tweet. All other columns provide various information related to what was the tweet, where was it posted from, when was it posted, it's retweeted; etc.\n",
    "**Your task is to build a machine learning / deep learning model to predict the sentiment of the tweet using all or some of the other given columns.**\n",
    "\n",
    "Description of columns of the dataset is given below - \n",
    "\n",
    "|Sr No|Column name|Description|\n",
    "|------|------|------|------|\n",
    "|1. |tweet_id  |Id of the tweet  |\n",
    "|**2.**|**airline_sentiment**|**Sentiment of the tweet (Target variable)**|\n",
    "|3.|\tairline_sentiment_confidence\t|Confidence with which the given sentiment was determined|\n",
    "|4.\t|negativereason_confidence\t|Confidence with which the negative reason of tweet was predicted|\n",
    "|5.\t|name\t|Name of the person who tweeted|\n",
    "|6.\t|retweet_count\t|Number of retweets|\n",
    "|7.\t|text\t|Text of the tweet whose sentiment has to be predicted|\n",
    "|8.\t|tweet_created\t|Time at which the tweet was created|\n",
    "|9.\t|tweet_location\t|Location from where the tweet was posted|\n",
    "|10.\t|user_timezone\t|Time zone from where the tweet was posted|\n",
    "|11.\t|negativereason\t|Reason for which user posted a negative tweet|\n",
    "|12.\t|airline\t|Airline for which the tweet was posted|\n",
    "\n",
    "\n",
    "Following are the files that will be provided in the dataset -\n",
    "    1. train.csv  - This file contains all the above-mentioned columns. You are expected to train your models on this file.\n",
    "    2. test.csv  - This file contains all the above-mentioned columns except “airline_sentiment” column. You have to predict this column for each record given in this file.\n",
    "    3. sample_submission.csv  - This file consists of sample submissions. Your submission should be in exact same format.\n"
   ]
  },
  {
   "cell_type": "markdown",
   "metadata": {},
   "source": [
    "### 1--> Data cleaning and formatting"
   ]
  },
  {
   "cell_type": "code",
   "execution_count": 1,
   "metadata": {},
   "outputs": [
    {
     "name": "stderr",
     "output_type": "stream",
     "text": [
      "/usr/local/lib/python3.5/dist-packages/sklearn/ensemble/weight_boosting.py:29: DeprecationWarning: numpy.core.umath_tests is an internal NumPy module and should not be imported. It will be removed in a future NumPy release.\n",
      "  from numpy.core.umath_tests import inner1d\n"
     ]
    }
   ],
   "source": [
    "import numpy as np\n",
    "import pandas as pd\n",
    "\n",
    "from pathlib import Path\n",
    "\n",
    "#### Ignore Warnings\n",
    "import warnings\n",
    "warnings.filterwarnings(\"ignore\")\n",
    "\n",
    "#### Features Creation\n",
    "from scipy.sparse import hstack\n",
    "from sklearn.feature_extraction.text import TfidfVectorizer\n",
    "\n",
    "#### Model Building\n",
    "from sklearn.linear_model import LogisticRegression\n",
    "from sklearn.ensemble import RandomForestClassifier\n",
    "from sklearn.ensemble import GradientBoostingClassifier\n",
    "from sklearn import svm\n",
    "from xgboost import XGBClassifier\n",
    "from sklearn import tree\n",
    "from sklearn.naive_bayes import MultinomialNB\n",
    "\n",
    "#### Plotting\n",
    "import matplotlib.pyplot as plt\n",
    "import seaborn as sns\n",
    "\n",
    "\n",
    "#### Model Validation\n",
    "from sklearn.model_selection import KFold, cross_val_score, train_test_split\n",
    "from sklearn.metrics import f1_score, confusion_matrix, accuracy_score"
   ]
  },
  {
   "cell_type": "code",
   "execution_count": 2,
   "metadata": {
    "scrolled": true
   },
   "outputs": [
    {
     "data": {
      "text/html": [
       "<div>\n",
       "<style scoped>\n",
       "    .dataframe tbody tr th:only-of-type {\n",
       "        vertical-align: middle;\n",
       "    }\n",
       "\n",
       "    .dataframe tbody tr th {\n",
       "        vertical-align: top;\n",
       "    }\n",
       "\n",
       "    .dataframe thead th {\n",
       "        text-align: right;\n",
       "    }\n",
       "</style>\n",
       "<table border=\"1\" class=\"dataframe\">\n",
       "  <thead>\n",
       "    <tr style=\"text-align: right;\">\n",
       "      <th></th>\n",
       "      <th>airline_sentiment</th>\n",
       "      <th>airline_sentiment_confidence</th>\n",
       "      <th>negativereason</th>\n",
       "      <th>negativereason_confidence</th>\n",
       "      <th>airline</th>\n",
       "      <th>name</th>\n",
       "      <th>retweet_count</th>\n",
       "      <th>text</th>\n",
       "      <th>tweet_created</th>\n",
       "      <th>tweet_location</th>\n",
       "      <th>user_timezone</th>\n",
       "    </tr>\n",
       "    <tr>\n",
       "      <th>tweet_id</th>\n",
       "      <th></th>\n",
       "      <th></th>\n",
       "      <th></th>\n",
       "      <th></th>\n",
       "      <th></th>\n",
       "      <th></th>\n",
       "      <th></th>\n",
       "      <th></th>\n",
       "      <th></th>\n",
       "      <th></th>\n",
       "      <th></th>\n",
       "    </tr>\n",
       "  </thead>\n",
       "  <tbody>\n",
       "    <tr>\n",
       "      <th>Tr_tweet_1</th>\n",
       "      <td>neutral</td>\n",
       "      <td>1.0000</td>\n",
       "      <td>NaN</td>\n",
       "      <td>NaN</td>\n",
       "      <td>Virgin America</td>\n",
       "      <td>cairdin</td>\n",
       "      <td>0.0</td>\n",
       "      <td>@VirginAmerica What @dhepburn said.</td>\n",
       "      <td>2015-02-24 11:35:52 -0800</td>\n",
       "      <td>NaN</td>\n",
       "      <td>Eastern Time (US &amp; Canada)</td>\n",
       "    </tr>\n",
       "    <tr>\n",
       "      <th>Tr_tweet_2</th>\n",
       "      <td>positive</td>\n",
       "      <td>0.3486</td>\n",
       "      <td>NaN</td>\n",
       "      <td>0.0</td>\n",
       "      <td>Virgin America</td>\n",
       "      <td>jnardino</td>\n",
       "      <td>0.0</td>\n",
       "      <td>@VirginAmerica plus you've added commercials t...</td>\n",
       "      <td>2015-02-24 11:15:59 -0800</td>\n",
       "      <td>NaN</td>\n",
       "      <td>Pacific Time (US &amp; Canada)</td>\n",
       "    </tr>\n",
       "    <tr>\n",
       "      <th>Tr_tweet_3</th>\n",
       "      <td>neutral</td>\n",
       "      <td>0.6837</td>\n",
       "      <td>NaN</td>\n",
       "      <td>NaN</td>\n",
       "      <td>Virgin America</td>\n",
       "      <td>yvonnalynn</td>\n",
       "      <td>0.0</td>\n",
       "      <td>@VirginAmerica I didn't today... Must mean I n...</td>\n",
       "      <td>2015-02-24 11:15:48 -0800</td>\n",
       "      <td>Lets Play</td>\n",
       "      <td>Central Time (US &amp; Canada)</td>\n",
       "    </tr>\n",
       "  </tbody>\n",
       "</table>\n",
       "</div>"
      ],
      "text/plain": [
       "           airline_sentiment  airline_sentiment_confidence negativereason  \\\n",
       "tweet_id                                                                    \n",
       "Tr_tweet_1           neutral                        1.0000            NaN   \n",
       "Tr_tweet_2          positive                        0.3486            NaN   \n",
       "Tr_tweet_3           neutral                        0.6837            NaN   \n",
       "\n",
       "            negativereason_confidence         airline        name  \\\n",
       "tweet_id                                                            \n",
       "Tr_tweet_1                        NaN  Virgin America     cairdin   \n",
       "Tr_tweet_2                        0.0  Virgin America    jnardino   \n",
       "Tr_tweet_3                        NaN  Virgin America  yvonnalynn   \n",
       "\n",
       "            retweet_count                                               text  \\\n",
       "tweet_id                                                                       \n",
       "Tr_tweet_1            0.0                @VirginAmerica What @dhepburn said.   \n",
       "Tr_tweet_2            0.0  @VirginAmerica plus you've added commercials t...   \n",
       "Tr_tweet_3            0.0  @VirginAmerica I didn't today... Must mean I n...   \n",
       "\n",
       "                        tweet_created tweet_location  \\\n",
       "tweet_id                                               \n",
       "Tr_tweet_1  2015-02-24 11:35:52 -0800            NaN   \n",
       "Tr_tweet_2  2015-02-24 11:15:59 -0800            NaN   \n",
       "Tr_tweet_3  2015-02-24 11:15:48 -0800      Lets Play   \n",
       "\n",
       "                         user_timezone  \n",
       "tweet_id                                \n",
       "Tr_tweet_1  Eastern Time (US & Canada)  \n",
       "Tr_tweet_2  Pacific Time (US & Canada)  \n",
       "Tr_tweet_3  Central Time (US & Canada)  "
      ]
     },
     "execution_count": 2,
     "metadata": {},
     "output_type": "execute_result"
    }
   ],
   "source": [
    "data_path = Path('..', '01.Data')\n",
    "data = pd.read_csv(data_path / 'train.csv', index_col=0)\n",
    "\n",
    "data.head(3)"
   ]
  },
  {
   "cell_type": "code",
   "execution_count": 3,
   "metadata": {},
   "outputs": [],
   "source": [
    "#### Summary Function (no. of null value, unique count for each columns)\n",
    "def summary_fun(data):\n",
    "    cols = list(data.columns)\n",
    "    n_unique = []\n",
    "    null_per = []\n",
    "    distinct =  []\n",
    "    l = len(data)\n",
    "    for col in cols:\n",
    "        n_unique.append(data[col].nunique())\n",
    "        a = round(100*(data[col].isnull().sum()/l),2)\n",
    "        b = round(100*(data[col].nunique()/l),2)\n",
    "        null_per.append(a)\n",
    "        distinct.append(b)\n",
    "        \n",
    "    ans = pd.DataFrame()\n",
    "    ans['Var'] = cols \n",
    "    ans['n_unique'] = n_unique\n",
    "    ans['null_per(%)'] = null_per\n",
    "    ans['distinct_per(%)'] = distinct\n",
    "    ans.index = range(1,len(ans)+1)\n",
    "    \n",
    "    return ans.head(100) "
   ]
  },
  {
   "cell_type": "code",
   "execution_count": 4,
   "metadata": {},
   "outputs": [
    {
     "data": {
      "text/html": [
       "<div>\n",
       "<style scoped>\n",
       "    .dataframe tbody tr th:only-of-type {\n",
       "        vertical-align: middle;\n",
       "    }\n",
       "\n",
       "    .dataframe tbody tr th {\n",
       "        vertical-align: top;\n",
       "    }\n",
       "\n",
       "    .dataframe thead th {\n",
       "        text-align: right;\n",
       "    }\n",
       "</style>\n",
       "<table border=\"1\" class=\"dataframe\">\n",
       "  <thead>\n",
       "    <tr style=\"text-align: right;\">\n",
       "      <th></th>\n",
       "      <th>Var</th>\n",
       "      <th>n_unique</th>\n",
       "      <th>null_per(%)</th>\n",
       "      <th>distinct_per(%)</th>\n",
       "    </tr>\n",
       "  </thead>\n",
       "  <tbody>\n",
       "    <tr>\n",
       "      <th>1</th>\n",
       "      <td>airline_sentiment</td>\n",
       "      <td>3</td>\n",
       "      <td>0.00</td>\n",
       "      <td>0.09</td>\n",
       "    </tr>\n",
       "    <tr>\n",
       "      <th>2</th>\n",
       "      <td>airline_sentiment_confidence</td>\n",
       "      <td>523</td>\n",
       "      <td>0.00</td>\n",
       "      <td>15.66</td>\n",
       "    </tr>\n",
       "    <tr>\n",
       "      <th>3</th>\n",
       "      <td>negativereason</td>\n",
       "      <td>10</td>\n",
       "      <td>36.09</td>\n",
       "      <td>0.30</td>\n",
       "    </tr>\n",
       "    <tr>\n",
       "      <th>4</th>\n",
       "      <td>negativereason_confidence</td>\n",
       "      <td>729</td>\n",
       "      <td>26.62</td>\n",
       "      <td>21.83</td>\n",
       "    </tr>\n",
       "    <tr>\n",
       "      <th>5</th>\n",
       "      <td>airline</td>\n",
       "      <td>2</td>\n",
       "      <td>0.03</td>\n",
       "      <td>0.06</td>\n",
       "    </tr>\n",
       "    <tr>\n",
       "      <th>6</th>\n",
       "      <td>name</td>\n",
       "      <td>1925</td>\n",
       "      <td>0.03</td>\n",
       "      <td>57.65</td>\n",
       "    </tr>\n",
       "    <tr>\n",
       "      <th>7</th>\n",
       "      <td>retweet_count</td>\n",
       "      <td>5</td>\n",
       "      <td>0.03</td>\n",
       "      <td>0.15</td>\n",
       "    </tr>\n",
       "    <tr>\n",
       "      <th>8</th>\n",
       "      <td>text</td>\n",
       "      <td>3321</td>\n",
       "      <td>0.03</td>\n",
       "      <td>99.46</td>\n",
       "    </tr>\n",
       "    <tr>\n",
       "      <th>9</th>\n",
       "      <td>tweet_created</td>\n",
       "      <td>3227</td>\n",
       "      <td>2.88</td>\n",
       "      <td>96.65</td>\n",
       "    </tr>\n",
       "    <tr>\n",
       "      <th>10</th>\n",
       "      <td>tweet_location</td>\n",
       "      <td>1010</td>\n",
       "      <td>30.55</td>\n",
       "      <td>30.25</td>\n",
       "    </tr>\n",
       "    <tr>\n",
       "      <th>11</th>\n",
       "      <td>user_timezone</td>\n",
       "      <td>143</td>\n",
       "      <td>33.18</td>\n",
       "      <td>4.28</td>\n",
       "    </tr>\n",
       "  </tbody>\n",
       "</table>\n",
       "</div>"
      ],
      "text/plain": [
       "                             Var  n_unique  null_per(%)  distinct_per(%)\n",
       "1              airline_sentiment         3         0.00             0.09\n",
       "2   airline_sentiment_confidence       523         0.00            15.66\n",
       "3                 negativereason        10        36.09             0.30\n",
       "4      negativereason_confidence       729        26.62            21.83\n",
       "5                        airline         2         0.03             0.06\n",
       "6                           name      1925         0.03            57.65\n",
       "7                  retweet_count         5         0.03             0.15\n",
       "8                           text      3321         0.03            99.46\n",
       "9                  tweet_created      3227         2.88            96.65\n",
       "10                tweet_location      1010        30.55            30.25\n",
       "11                 user_timezone       143        33.18             4.28"
      ]
     },
     "execution_count": 4,
     "metadata": {},
     "output_type": "execute_result"
    }
   ],
   "source": [
    "summary_fun(data)\n",
    "\n",
    "## we are only consider text column. So, no pre-process((Missing Data and Outliers) steps required as text columns \n",
    "## contains few null value"
   ]
  },
  {
   "cell_type": "markdown",
   "metadata": {},
   "source": [
    "### 2--> Exploratory data analysis\n",
    "\n",
    "1. Tweets Classification Problem\n",
    "2. Binary classification Problem"
   ]
  },
  {
   "cell_type": "code",
   "execution_count": 5,
   "metadata": {},
   "outputs": [
    {
     "data": {
      "text/plain": [
       "negative    2135\n",
       "neutral      679\n",
       "positive     525\n",
       "Name: airline_sentiment, dtype: int64"
      ]
     },
     "execution_count": 5,
     "metadata": {},
     "output_type": "execute_result"
    }
   ],
   "source": [
    "## Target Value Analysis\n",
    "## Target value can take 3 values (negative, neural, and positive). Hence, its a multiclass problem\n",
    "data.airline_sentiment.value_counts()"
   ]
  },
  {
   "cell_type": "code",
   "execution_count": 6,
   "metadata": {},
   "outputs": [
    {
     "data": {
      "text/plain": [
       "airline_sentiment\n",
       "negative    2134\n",
       "neutral        0\n",
       "positive       0\n",
       "Name: negativereason, dtype: int64"
      ]
     },
     "execution_count": 6,
     "metadata": {},
     "output_type": "execute_result"
    }
   ],
   "source": [
    "## For all negative comenmts, reason is provided. So, we can directly tag negative comments. Now, problem convert to binary \n",
    "## classification problem\n",
    "data.groupby(['airline_sentiment'])['negativereason'].count()"
   ]
  },
  {
   "cell_type": "code",
   "execution_count": 7,
   "metadata": {},
   "outputs": [
    {
     "data": {
      "text/plain": [
       "neutral     679\n",
       "positive    525\n",
       "Name: airline_sentiment, dtype: int64"
      ]
     },
     "execution_count": 7,
     "metadata": {},
     "output_type": "execute_result"
    }
   ],
   "source": [
    "data_pn  = data[data.airline_sentiment!=\"negative\"]\n",
    "data_pn.airline_sentiment.value_counts()"
   ]
  },
  {
   "cell_type": "code",
   "execution_count": 8,
   "metadata": {},
   "outputs": [
    {
     "data": {
      "text/html": [
       "<div>\n",
       "<style scoped>\n",
       "    .dataframe tbody tr th:only-of-type {\n",
       "        vertical-align: middle;\n",
       "    }\n",
       "\n",
       "    .dataframe tbody tr th {\n",
       "        vertical-align: top;\n",
       "    }\n",
       "\n",
       "    .dataframe thead th {\n",
       "        text-align: right;\n",
       "    }\n",
       "</style>\n",
       "<table border=\"1\" class=\"dataframe\">\n",
       "  <thead>\n",
       "    <tr style=\"text-align: right;\">\n",
       "      <th></th>\n",
       "      <th>Var</th>\n",
       "      <th>n_unique</th>\n",
       "      <th>null_per(%)</th>\n",
       "      <th>distinct_per(%)</th>\n",
       "    </tr>\n",
       "  </thead>\n",
       "  <tbody>\n",
       "    <tr>\n",
       "      <th>1</th>\n",
       "      <td>airline_sentiment</td>\n",
       "      <td>2</td>\n",
       "      <td>0.00</td>\n",
       "      <td>0.17</td>\n",
       "    </tr>\n",
       "    <tr>\n",
       "      <th>2</th>\n",
       "      <td>airline_sentiment_confidence</td>\n",
       "      <td>359</td>\n",
       "      <td>0.00</td>\n",
       "      <td>29.82</td>\n",
       "    </tr>\n",
       "    <tr>\n",
       "      <th>3</th>\n",
       "      <td>negativereason</td>\n",
       "      <td>0</td>\n",
       "      <td>100.00</td>\n",
       "      <td>0.00</td>\n",
       "    </tr>\n",
       "    <tr>\n",
       "      <th>4</th>\n",
       "      <td>negativereason_confidence</td>\n",
       "      <td>1</td>\n",
       "      <td>73.75</td>\n",
       "      <td>0.08</td>\n",
       "    </tr>\n",
       "    <tr>\n",
       "      <th>5</th>\n",
       "      <td>airline</td>\n",
       "      <td>2</td>\n",
       "      <td>0.00</td>\n",
       "      <td>0.17</td>\n",
       "    </tr>\n",
       "    <tr>\n",
       "      <th>6</th>\n",
       "      <td>name</td>\n",
       "      <td>927</td>\n",
       "      <td>0.00</td>\n",
       "      <td>76.99</td>\n",
       "    </tr>\n",
       "    <tr>\n",
       "      <th>7</th>\n",
       "      <td>retweet_count</td>\n",
       "      <td>5</td>\n",
       "      <td>0.00</td>\n",
       "      <td>0.42</td>\n",
       "    </tr>\n",
       "    <tr>\n",
       "      <th>8</th>\n",
       "      <td>text</td>\n",
       "      <td>1189</td>\n",
       "      <td>0.00</td>\n",
       "      <td>98.75</td>\n",
       "    </tr>\n",
       "    <tr>\n",
       "      <th>9</th>\n",
       "      <td>tweet_created</td>\n",
       "      <td>1161</td>\n",
       "      <td>3.16</td>\n",
       "      <td>96.43</td>\n",
       "    </tr>\n",
       "    <tr>\n",
       "      <th>10</th>\n",
       "      <td>tweet_location</td>\n",
       "      <td>547</td>\n",
       "      <td>27.49</td>\n",
       "      <td>45.43</td>\n",
       "    </tr>\n",
       "    <tr>\n",
       "      <th>11</th>\n",
       "      <td>user_timezone</td>\n",
       "      <td>76</td>\n",
       "      <td>31.15</td>\n",
       "      <td>6.31</td>\n",
       "    </tr>\n",
       "  </tbody>\n",
       "</table>\n",
       "</div>"
      ],
      "text/plain": [
       "                             Var  n_unique  null_per(%)  distinct_per(%)\n",
       "1              airline_sentiment         2         0.00             0.17\n",
       "2   airline_sentiment_confidence       359         0.00            29.82\n",
       "3                 negativereason         0       100.00             0.00\n",
       "4      negativereason_confidence         1        73.75             0.08\n",
       "5                        airline         2         0.00             0.17\n",
       "6                           name       927         0.00            76.99\n",
       "7                  retweet_count         5         0.00             0.42\n",
       "8                           text      1189         0.00            98.75\n",
       "9                  tweet_created      1161         3.16            96.43\n",
       "10                tweet_location       547        27.49            45.43\n",
       "11                 user_timezone        76        31.15             6.31"
      ]
     },
     "execution_count": 8,
     "metadata": {},
     "output_type": "execute_result"
    }
   ],
   "source": [
    "summary_fun(data_pn)"
   ]
  },
  {
   "cell_type": "markdown",
   "metadata": {},
   "source": [
    "### 3--> Feature engineering and selection\n",
    "\n",
    "1. Representing text as numerical data\n",
    "2. Vectorizing our dataset"
   ]
  },
  {
   "cell_type": "code",
   "execution_count": 9,
   "metadata": {},
   "outputs": [],
   "source": [
    "text_data = data_pn[['text','airline_sentiment']]"
   ]
  },
  {
   "cell_type": "code",
   "execution_count": 10,
   "metadata": {},
   "outputs": [
    {
     "name": "stdout",
     "output_type": "stream",
     "text": [
      "[nltk_data] Downloading package wordnet to\n",
      "[nltk_data]     /home1/shubhamg/nltk_data...\n",
      "[nltk_data]   Package wordnet is already up-to-date!\n"
     ]
    }
   ],
   "source": [
    "###### Pre-Processing Function \n",
    "import re\n",
    "from textblob import Word\n",
    "from nltk.corpus import stopwords\n",
    "import nltk\n",
    "nltk.download('wordnet')\n",
    "stop = stopwords.words('english')\n",
    "\n",
    "def pre_process(name,Stemming=False,Lemmatization=False):\n",
    "    \n",
    "    #1. remove . \" ' ( ) \n",
    "    name = re.sub(\"[\\\"\\'.()\\[\\]\\{\\}<>`\\?\\!#\\$%^\\&=@]\", \" \", name)\n",
    "    name = re.sub('https?://[A-Za-z0-9./]+','',name)\n",
    "    name = re.sub(\"[,;:\\+/\\\\\\*~\\|]\", \" \", name)\n",
    "    \n",
    "    #2. replace multiple spaces with single space\n",
    "    name = \" \".join(name.strip().split())\n",
    "    \n",
    "    #3. convert string to lower case\n",
    "    name = name.lower()\n",
    "    \n",
    "    #4. Removal of stop words\n",
    "    name =  \" \".join(x for x in name.split() if x not in stop)\n",
    "    \n",
    "    #5. Stemming\n",
    "    if (Stemming):\n",
    "        name = \" \".join([st.stem(name) for name in x.split()])\n",
    "        \n",
    "    #6. Lemmatization\n",
    "    if (Lemmatization):\n",
    "        name = \" \".join([Word(word).lemmatize() for word in name.split()])\n",
    "        \n",
    "    return name"
   ]
  },
  {
   "cell_type": "code",
   "execution_count": 11,
   "metadata": {},
   "outputs": [],
   "source": [
    "#### Features Creation Function \n",
    "#### Using Tf & Idf on word_gram and character\n",
    "\n",
    "def TF_IDF(data,name,char=False):\n",
    "    \n",
    "    word_vectorizer = TfidfVectorizer(\n",
    "        sublinear_tf=True,\n",
    "        strip_accents='unicode',\n",
    "        analyzer='word',\n",
    "        token_pattern=r'\\w{1,}',\n",
    "        stop_words='english',\n",
    "        ngram_range=(1, 2),\n",
    "        max_features=100000,\n",
    "        use_idf=False)\n",
    "    word_vectorizer.fit(data[name])\n",
    "    \n",
    "    features_word = word_vectorizer.transform(data[name])\n",
    "    a = list(word_vectorizer.vocabulary_.keys())\n",
    "    word_vol = [\"W_\" + s for s in a]\n",
    "\n",
    "    if (char):\n",
    "        char_vectorizer = TfidfVectorizer(\n",
    "            sublinear_tf=True,\n",
    "            strip_accents='unicode',\n",
    "            analyzer='char',\n",
    "            stop_words='english',\n",
    "            ngram_range=(2, 4),\n",
    "            max_features=50000,\n",
    "            use_idf=False)\n",
    "        char_vectorizer.fit(data[name])\n",
    "        features_char = char_vectorizer.transform(data[name])\n",
    "        \n",
    "        features = hstack([features_word, features_char])\n",
    "        \n",
    "        b = list(char_vectorizer.vocabulary_.keys())\n",
    "        char_vol = [\"C_\" + s for s in b]\n",
    "        feature_cols = word_vol + char_vol\n",
    "    else: \n",
    "        features = features_word\n",
    "        feature_cols = word_vol\n",
    "        \n",
    "    return features,word_vectorizer, feature_cols"
   ]
  },
  {
   "cell_type": "code",
   "execution_count": 12,
   "metadata": {},
   "outputs": [
    {
     "data": {
      "text/plain": [
       "(1204, 9707)"
      ]
     },
     "execution_count": 12,
     "metadata": {},
     "output_type": "execute_result"
    }
   ],
   "source": [
    "text_data['text_pre'] = text_data['text'].apply(pre_process,Lemmatization=True)\n",
    "features,word_vectorizer,feature_cols = TF_IDF(text_data,'text_pre')\n",
    "features = pd.DataFrame(features.todense())\n",
    "features.columns = feature_cols\n",
    "text_data['target'] = np.where(text_data.airline_sentiment ==\"positive\",1,0)\n",
    "target = text_data.target\n",
    "features.shape"
   ]
  },
  {
   "cell_type": "markdown",
   "metadata": {},
   "source": [
    "### 4--> Compare several machine learning models on a performance metric\n",
    "\n",
    "\n",
    "\n",
    "*Observations*\n",
    "1. Performance of MultinomialNB is better than any other model\n",
    "2. Select MultinomialNB as final model\n",
    "3. Model is slightly overfit; Training score is more than testing score"
   ]
  },
  {
   "cell_type": "code",
   "execution_count": 13,
   "metadata": {},
   "outputs": [],
   "source": [
    "#### Model Selection Function \n",
    "\n",
    "def models_validation(features,target,k=5, LR=False, SVM = False, MNB = False, DT=False, RF=False,\\\n",
    "                      gbc=False,xgb=False,plot_train=False):\n",
    "    \n",
    "    kf = KFold(n_splits=k)\n",
    "    count=0\n",
    "    target.index = range(len(target))\n",
    "    features.index = range(len(features))\n",
    "    \n",
    "    entries = []\n",
    "    models = []\n",
    "    \n",
    "    if (LR):\n",
    "        models.append(LogisticRegression())\n",
    "        \n",
    "    if (SVM):\n",
    "        models.append(svm.SVC())\n",
    "    \n",
    "    if (DT):\n",
    "        models.append(MultinomialNB(alpha=1))\n",
    "        \n",
    "    if (DT):\n",
    "        models.append(tree.DecisionTreeClassifier(max_depth=4, random_state=0))\n",
    "        \n",
    "    if(RF):\n",
    "        models.append(RandomForestClassifier(n_estimators=50, max_depth=4, random_state=0))\n",
    "        \n",
    "    if(gbc):\n",
    "        models.append(GradientBoostingClassifier())\n",
    "        \n",
    "   \n",
    "    if(xgb):\n",
    "        models.append(XGBClassifier(random_state=42, learning_rate = 0.05, n_estimators = 100, \\\n",
    "                       max_depth = 5, min_child_weight = 4,gamma=0.4,subsample=1 ,colsample_bytree=0.6, reg_alpha=0.1))\n",
    "        \n",
    "\n",
    "    cv_df = pd.DataFrame(index=range(k * len(models)))\n",
    "    for model in models:\n",
    "        model_name = model.__class__.__name__\n",
    "        count=0\n",
    "        for train, test in kf.split(target):\n",
    "            count+=1\n",
    "            X_train, X_test, y_train, y_test = features.iloc[train], features.iloc[test], target[train], target[test]\n",
    "            model.fit(X_train, y_train) \n",
    "            y_pred = model.predict(X_test)\n",
    "            y_pred_train = model.predict(X_train)\n",
    "            error_test = round(f1_score(y_test, y_pred),2)  \n",
    "            error_train = round(f1_score(y_train, y_pred_train),2)\n",
    "            entries.append((model_name,count,error_test,error_train))\n",
    "            \n",
    "        print (\"Done-->\", model_name)\n",
    "    cv_df = pd.DataFrame(entries, columns=['model_name', 'fold_idx', 'f1_test','f1_train'])\n",
    "    results = cv_df.groupby(['model_name'])['f1_test','f1_train'].mean().round(2)\n",
    "    \n",
    "    sns.boxplot(x='model_name', y='f1_test', data=cv_df)\n",
    "    sns.stripplot(x='model_name', y='f1_test', data=cv_df, size=10, jitter=True, edgecolor=\"gray\", linewidth=2)\n",
    "    plt.title('Error-->Test Data')\n",
    "    plt.figure(figsize=(100,100))\n",
    "    plt.show()\n",
    "    \n",
    "    if (plot_train):\n",
    "        sns.boxplot(x='model_name', y='f1_train', data=cv_df)\n",
    "        sns.stripplot(x='model_name', y='f1_train', data=cv_df, size=10, jitter=True, edgecolor=\"gray\", linewidth=2)\n",
    "        plt.title('Error-->Train Data')\n",
    "        plt.show()\n",
    "        \n",
    "    return results, cv_df"
   ]
  },
  {
   "cell_type": "code",
   "execution_count": 14,
   "metadata": {},
   "outputs": [
    {
     "name": "stdout",
     "output_type": "stream",
     "text": [
      "Done--> LogisticRegression\n",
      "Done--> MultinomialNB\n",
      "Done--> DecisionTreeClassifier\n",
      "Done--> GradientBoostingClassifier\n"
     ]
    },
    {
     "name": "stderr",
     "output_type": "stream",
     "text": [
      "/usr/local/lib/python3.5/dist-packages/sklearn/preprocessing/label.py:151: DeprecationWarning: The truth value of an empty array is ambiguous. Returning False, but in future this will result in an error. Use `array.size > 0` to check that an array is not empty.\n",
      "  if diff:\n",
      "/usr/local/lib/python3.5/dist-packages/sklearn/preprocessing/label.py:151: DeprecationWarning: The truth value of an empty array is ambiguous. Returning False, but in future this will result in an error. Use `array.size > 0` to check that an array is not empty.\n",
      "  if diff:\n",
      "/usr/local/lib/python3.5/dist-packages/sklearn/preprocessing/label.py:151: DeprecationWarning: The truth value of an empty array is ambiguous. Returning False, but in future this will result in an error. Use `array.size > 0` to check that an array is not empty.\n",
      "  if diff:\n",
      "/usr/local/lib/python3.5/dist-packages/sklearn/preprocessing/label.py:151: DeprecationWarning: The truth value of an empty array is ambiguous. Returning False, but in future this will result in an error. Use `array.size > 0` to check that an array is not empty.\n",
      "  if diff:\n",
      "/usr/local/lib/python3.5/dist-packages/sklearn/preprocessing/label.py:151: DeprecationWarning: The truth value of an empty array is ambiguous. Returning False, but in future this will result in an error. Use `array.size > 0` to check that an array is not empty.\n",
      "  if diff:\n",
      "/usr/local/lib/python3.5/dist-packages/sklearn/preprocessing/label.py:151: DeprecationWarning: The truth value of an empty array is ambiguous. Returning False, but in future this will result in an error. Use `array.size > 0` to check that an array is not empty.\n",
      "  if diff:\n"
     ]
    },
    {
     "name": "stdout",
     "output_type": "stream",
     "text": [
      "Done--> XGBClassifier\n"
     ]
    },
    {
     "data": {
      "image/png": "[encoded data removed]",
      "text/plain": [
       "<matplotlib.figure.Figure at 0x7ff1fd1c9978>"
      ]
     },
     "metadata": {},
     "output_type": "display_data"
    },
    {
     "data": {
      "text/plain": [
       "<matplotlib.figure.Figure at 0x7ff1eb5c1550>"
      ]
     },
     "metadata": {},
     "output_type": "display_data"
    },
    {
     "data": {
      "image/png": "[encoded data removed]",
      "text/plain": [
       "<matplotlib.figure.Figure at 0x7ff1fa6cf438>"
      ]
     },
     "metadata": {},
     "output_type": "display_data"
    },
    {
     "data": {
      "text/html": [
       "<div>\n",
       "<style scoped>\n",
       "    .dataframe tbody tr th:only-of-type {\n",
       "        vertical-align: middle;\n",
       "    }\n",
       "\n",
       "    .dataframe tbody tr th {\n",
       "        vertical-align: top;\n",
       "    }\n",
       "\n",
       "    .dataframe thead th {\n",
       "        text-align: right;\n",
       "    }\n",
       "</style>\n",
       "<table border=\"1\" class=\"dataframe\">\n",
       "  <thead>\n",
       "    <tr style=\"text-align: right;\">\n",
       "      <th></th>\n",
       "      <th>f1_test</th>\n",
       "      <th>f1_train</th>\n",
       "    </tr>\n",
       "    <tr>\n",
       "      <th>model_name</th>\n",
       "      <th></th>\n",
       "      <th></th>\n",
       "    </tr>\n",
       "  </thead>\n",
       "  <tbody>\n",
       "    <tr>\n",
       "      <th>DecisionTreeClassifier</th>\n",
       "      <td>0.61</td>\n",
       "      <td>0.64</td>\n",
       "    </tr>\n",
       "    <tr>\n",
       "      <th>GradientBoostingClassifier</th>\n",
       "      <td>0.65</td>\n",
       "      <td>0.83</td>\n",
       "    </tr>\n",
       "    <tr>\n",
       "      <th>LogisticRegression</th>\n",
       "      <td>0.59</td>\n",
       "      <td>0.84</td>\n",
       "    </tr>\n",
       "    <tr>\n",
       "      <th>MultinomialNB</th>\n",
       "      <td>0.63</td>\n",
       "      <td>0.95</td>\n",
       "    </tr>\n",
       "    <tr>\n",
       "      <th>XGBClassifier</th>\n",
       "      <td>0.62</td>\n",
       "      <td>0.68</td>\n",
       "    </tr>\n",
       "  </tbody>\n",
       "</table>\n",
       "</div>"
      ],
      "text/plain": [
       "                            f1_test  f1_train\n",
       "model_name                                   \n",
       "DecisionTreeClassifier         0.61      0.64\n",
       "GradientBoostingClassifier     0.65      0.83\n",
       "LogisticRegression             0.59      0.84\n",
       "MultinomialNB                  0.63      0.95\n",
       "XGBClassifier                  0.62      0.68"
      ]
     },
     "execution_count": 14,
     "metadata": {},
     "output_type": "execute_result"
    }
   ],
   "source": [
    "plt.figure(figsize=(15,5))\n",
    "results, cv_df = models_validation(features,target,LR=True, SVM = False, MNB = True, DT=True, RF=False,\\\n",
    "                      gbc=True,xgb=True,plot_train=True,k=3)\n",
    "results"
   ]
  },
  {
   "cell_type": "markdown",
   "metadata": {},
   "source": [
    "### 5--> Perform hyperparameter tuning on the best model\n",
    "\n",
    "*Observations*\n",
    "\n",
    "1. Best Score (f1_score)--> 0.7345\n",
    "2. Best Parameters set -->  {alpha : 0.25}"
   ]
  },
  {
   "cell_type": "code",
   "execution_count": 15,
   "metadata": {},
   "outputs": [],
   "source": [
    "def frange(start, stop, step):\n",
    "    i = start\n",
    "    while i < stop:\n",
    "        yield i\n",
    "        i += step"
   ]
  },
  {
   "cell_type": "code",
   "execution_count": 16,
   "metadata": {},
   "outputs": [
    {
     "name": "stdout",
     "output_type": "stream",
     "text": [
      "Best Score -->  0.734\n",
      "Best Parameters -->  0.25\n"
     ]
    },
    {
     "data": {
      "text/plain": [
       "Text(0,0.5,'f1_score-->')"
      ]
     },
     "execution_count": 16,
     "metadata": {},
     "output_type": "execute_result"
    },
    {
     "data": {
      "image/png": "[encoded data removed]",
      "text/plain": [
       "<matplotlib.figure.Figure at 0x7ff1eb4ca9b0>"
      ]
     },
     "metadata": {},
     "output_type": "display_data"
    }
   ],
   "source": [
    "params_list = list(frange(0.01,0.1,0.005)) + list(frange(0.1,1,0.05))\n",
    "target.index = range(len(target))\n",
    "features.index = range(len(features))\n",
    "entries = []\n",
    "for alpha_value in params_list:\n",
    "    model = MultinomialNB(alpha=alpha_value)\n",
    "    kf = KFold(n_splits=5)\n",
    "    count=0\n",
    "    \n",
    "    for train, test in kf.split(target):\n",
    "        count+=1\n",
    "        X_train, X_test, y_train, y_test = features.iloc[train], features.iloc[test], target[train], target[test]\n",
    "        model.fit(X_train, y_train) \n",
    "        y_pred = model.predict(X_test)\n",
    "        y_pred_train = model.predict(X_train)\n",
    "        error_test = round(f1_score(y_test, y_pred),2)  \n",
    "        error_train = round(f1_score(y_train, y_pred_train),2)\n",
    "        entries.append((alpha_value,count,error_test,error_train))\n",
    "\n",
    "results = pd.DataFrame(entries)\n",
    "results.columns = ['value','count','test','train']\n",
    "results = results.groupby(['value'])['test','train'].mean().reset_index()\n",
    "best_score = max(results.test)\n",
    "best_params = list(results[results.test==best_score]['value'])[0]\n",
    "print (\"Best Score --> \",best_score)\n",
    "print (\"Best Parameters --> \",best_params)\n",
    "\n",
    "plt.plot(results.value, results.test)\n",
    "plt.plot(results.value, results.train)\n",
    "plt.legend(['test','train'])\n",
    "plt.title('f1_score vs alpha value')\n",
    "plt.xlabel('alpha-->')\n",
    "plt.ylabel('f1_score-->')"
   ]
  },
  {
   "cell_type": "markdown",
   "metadata": {},
   "source": [
    "### 6--> Evaluate the best model on the testing set\n",
    "\n",
    "|Confusion Matrix |\n",
    "|----|----|\n",
    "|TP | FP|\n",
    "|FN | TN|\n",
    "\n"
   ]
  },
  {
   "cell_type": "code",
   "execution_count": 17,
   "metadata": {},
   "outputs": [
    {
     "name": "stdout",
     "output_type": "stream",
     "text": [
      "f1_score--> 0.7648902821316615\n",
      " \n",
      "acc--> 0.7928176795580111\n",
      " \n",
      "confusion matrix\n",
      "[[165  42]\n",
      " [ 33 122]]\n"
     ]
    }
   ],
   "source": [
    "X_train, X_test, y_train, y_test = train_test_split(features, target, test_size=0.3, random_state=42)\n",
    "model = MultinomialNB(alpha=best_params)\n",
    "model.fit(X_train,y_train)\n",
    "y_pred = model.predict(X_test)\n",
    "f1_score_value = f1_score(y_test,y_pred)\n",
    "print (\"f1_score-->\", f1_score_value)\n",
    "print (\" \")\n",
    "print (\"acc-->\", accuracy_score(y_test,y_pred))\n",
    "print (\" \")\n",
    "print (\"confusion matrix\")\n",
    "print (confusion_matrix(y_test,y_pred))"
   ]
  },
  {
   "cell_type": "markdown",
   "metadata": {},
   "source": [
    "### 7-->Deep Learning Model\n"
   ]
  },
  {
   "cell_type": "code",
   "execution_count": 18,
   "metadata": {},
   "outputs": [
    {
     "name": "stderr",
     "output_type": "stream",
     "text": [
      "Using TensorFlow backend.\n"
     ]
    }
   ],
   "source": [
    "from keras.preprocessing.text import Tokenizer          # for tokenizing text\n",
    "from keras.preprocessing.sequence import pad_sequences  # for padding sentences with zeros. To make the sentence length same\n",
    "from keras.utils import to_categorical                  # for one-hot encoding of the labels\n",
    "from keras.layers import Dense, Input, Flatten, Dropout, BatchNormalization\n",
    "from keras.layers import Conv1D, MaxPooling1D, GlobalMaxPool1D, Embedding\n",
    "from keras.models import Sequential"
   ]
  },
  {
   "cell_type": "code",
   "execution_count": 19,
   "metadata": {},
   "outputs": [
    {
     "name": "stdout",
     "output_type": "stream",
     "text": [
      "Training model.\n"
     ]
    }
   ],
   "source": [
    "print('Training model.')\n",
    "EMBEDDING_DIM = 200\n",
    "MAX_SEQUENCE_LENGTH = 200   # Sequence length of each sentence. If more, crop. If less, pad with zeros\n",
    "MAX_NB_WORDS = 9000        # Top 9000 frequently occuring words"
   ]
  },
  {
   "cell_type": "code",
   "execution_count": 20,
   "metadata": {},
   "outputs": [
    {
     "name": "stdout",
     "output_type": "stream",
     "text": [
      "Found 2412 unique tokens.\n",
      "(842, 200)\n",
      "(362, 200)\n"
     ]
    }
   ],
   "source": [
    "#X_train, X_test, y_train, y_test = train_test_split(text_data['text_pre'], text_data['airline_sentiment'], test_size=0.3, random_state=42)\n",
    "\n",
    "X_train  = text_data.iloc[X_train.index]\n",
    "X_test  = text_data.iloc[X_test.index]\n",
    "y_train  = text_data.iloc[y_train.index]['target']\n",
    "y_test  = text_data.iloc[y_test.index]['target']\n",
    "\n",
    "tokenizer = Tokenizer(num_words=MAX_NB_WORDS)   # get the frequently occuring words\n",
    "tokenizer.fit_on_texts(X_train.text_pre)           \n",
    "train_sequences = tokenizer.texts_to_sequences(X_train.text_pre)\n",
    "test_sequences = tokenizer.texts_to_sequences(X_test.text_pre)\n",
    "\n",
    "word_index = tokenizer.word_index               # dictionary containing words and their index\n",
    "# print(tokenizer.word_index)                   # print to check\n",
    "print('Found %s unique tokens.' % len(word_index)) # total words in the corpus\n",
    "train_data = pad_sequences(train_sequences, maxlen=MAX_SEQUENCE_LENGTH) # get only the top frequent words on train\n",
    "test_data = pad_sequences(test_sequences, maxlen=MAX_SEQUENCE_LENGTH)   # get only the top frequent words on test\n",
    "\n",
    "print(train_data.shape)\n",
    "print(test_data.shape)"
   ]
  },
  {
   "cell_type": "code",
   "execution_count": 21,
   "metadata": {},
   "outputs": [
    {
     "name": "stdout",
     "output_type": "stream",
     "text": [
      "Shape of data tensor: (842, 200)\n",
      "Shape of label tensor: (842,)\n",
      "Shape of label tensor: (362,)\n",
      "Training model.\n"
     ]
    }
   ],
   "source": [
    "\n",
    "print('Shape of data tensor:', train_data.shape)\n",
    "print('Shape of label tensor:', y_train.shape)\n",
    "print('Shape of label tensor:', y_test.shape)\n",
    "\n",
    "\n",
    "print('Training model.')\n",
    "EMBEDDING_DIM = 300\n",
    "\n",
    "model = Sequential()\n",
    "model.add(Embedding(MAX_NB_WORDS,\n",
    "                    EMBEDDING_DIM,\n",
    "                    input_length=MAX_SEQUENCE_LENGTH\n",
    "                    ))\n",
    "model.add(Conv1D(64, 5, activation='relu'))\n",
    "model.add(MaxPooling1D(5))\n",
    "\n",
    "model.add(GlobalMaxPool1D())\n",
    "# model.add(Flatten())\n",
    "\n",
    "model.add(Dense(128, activation='relu'))\n",
    "model.add(Dense(1, activation='sigmoid'))"
   ]
  },
  {
   "cell_type": "code",
   "execution_count": 22,
   "metadata": {},
   "outputs": [
    {
     "name": "stdout",
     "output_type": "stream",
     "text": [
      "_________________________________________________________________\n",
      "Layer (type)                 Output Shape              Param #   \n",
      "=================================================================\n",
      "embedding_1 (Embedding)      (None, 200, 300)          2700000   \n",
      "_________________________________________________________________\n",
      "conv1d_1 (Conv1D)            (None, 196, 64)           96064     \n",
      "_________________________________________________________________\n",
      "max_pooling1d_1 (MaxPooling1 (None, 39, 64)            0         \n",
      "_________________________________________________________________\n",
      "global_max_pooling1d_1 (Glob (None, 64)                0         \n",
      "_________________________________________________________________\n",
      "dense_1 (Dense)              (None, 128)               8320      \n",
      "_________________________________________________________________\n",
      "dense_2 (Dense)              (None, 1)                 129       \n",
      "=================================================================\n",
      "Total params: 2,804,513\n",
      "Trainable params: 2,804,513\n",
      "Non-trainable params: 0\n",
      "_________________________________________________________________\n"
     ]
    }
   ],
   "source": [
    "model.summary()"
   ]
  },
  {
   "cell_type": "code",
   "execution_count": 23,
   "metadata": {},
   "outputs": [],
   "source": [
    "from keras import backend as K\n",
    "def f1(y_true, y_pred):\n",
    "    def recall(y_true, y_pred):\n",
    "        \"\"\"Recall metric.\n",
    "\n",
    "        Only computes a batch-wise average of recall.\n",
    "\n",
    "        Computes the recall, a metric for multi-label classification of\n",
    "        how many relevant items are selected.\n",
    "        \"\"\"\n",
    "        true_positives = K.sum(K.round(K.clip(y_true * y_pred, 0, 1)))\n",
    "        possible_positives = K.sum(K.round(K.clip(y_true, 0, 1)))\n",
    "        recall = true_positives / (possible_positives + K.epsilon())\n",
    "        return recall\n",
    "\n",
    "    def precision(y_true, y_pred):\n",
    "        \"\"\"Precision metric.\n",
    "\n",
    "        Only computes a batch-wise average of precision.\n",
    "\n",
    "        Computes the precision, a metric for multi-label classification of\n",
    "        how many selected items are relevant.\n",
    "        \"\"\"\n",
    "        true_positives = K.sum(K.round(K.clip(y_true * y_pred, 0, 1)))\n",
    "        predicted_positives = K.sum(K.round(K.clip(y_pred, 0, 1)))\n",
    "        precision = true_positives / (predicted_positives + K.epsilon())\n",
    "        return precision\n",
    "    precision = precision(y_true, y_pred)\n",
    "    recall = recall(y_true, y_pred)\n",
    "    return 2*((precision*recall)/(precision+recall+K.epsilon()))"
   ]
  },
  {
   "cell_type": "code",
   "execution_count": 24,
   "metadata": {},
   "outputs": [
    {
     "name": "stdout",
     "output_type": "stream",
     "text": [
      "Train on 842 samples, validate on 362 samples\n",
      "Epoch 1/10\n",
      "842/842 [==============================] - 2s 2ms/step - loss: 0.6895 - f1: 0.0548 - val_loss: 0.6768 - val_f1: 0.0000e+00\n",
      "Epoch 2/10\n",
      "842/842 [==============================] - 1s 2ms/step - loss: 0.6279 - f1: 0.6963 - val_loss: 0.6005 - val_f1: 0.5045\n",
      "Epoch 3/10\n",
      "842/842 [==============================] - 1s 2ms/step - loss: 0.3588 - f1: 0.8821 - val_loss: 0.5212 - val_f1: 0.6413\n",
      "Epoch 4/10\n",
      "842/842 [==============================] - 1s 2ms/step - loss: 0.1504 - f1: 0.9196 - val_loss: 0.5697 - val_f1: 0.6976\n",
      "Epoch 5/10\n",
      "842/842 [==============================] - 1s 2ms/step - loss: 0.0815 - f1: 0.9590 - val_loss: 0.6642 - val_f1: 0.7052\n",
      "Epoch 6/10\n",
      "842/842 [==============================] - 1s 2ms/step - loss: 0.0618 - f1: 0.9573 - val_loss: 0.7152 - val_f1: 0.6971\n",
      "Epoch 7/10\n",
      "842/842 [==============================] - 1s 2ms/step - loss: 0.0572 - f1: 0.9667 - val_loss: 0.7652 - val_f1: 0.6688\n",
      "Epoch 8/10\n",
      "842/842 [==============================] - 1s 2ms/step - loss: 0.0522 - f1: 0.9590 - val_loss: 0.7976 - val_f1: 0.6953\n",
      "Epoch 9/10\n",
      "842/842 [==============================] - 1s 2ms/step - loss: 0.0487 - f1: 0.9646 - val_loss: 0.8154 - val_f1: 0.6744\n",
      "Epoch 10/10\n",
      "842/842 [==============================] - 1s 2ms/step - loss: 0.0473 - f1: 0.9670 - val_loss: 0.8532 - val_f1: 0.6868\n",
      "f1_score--> 0.688821752265861\n",
      " \n",
      "acc--> 0.7154696132596685\n",
      " \n",
      "confusion matrix\n",
      "[[145  62]\n",
      " [ 41 114]]\n"
     ]
    }
   ],
   "source": [
    "model.compile(loss='binary_crossentropy',\n",
    "              optimizer='adam',\n",
    "              metrics=[f1])\n",
    "\n",
    "model.fit(train_data, y_train,\n",
    "          batch_size=32,\n",
    "          epochs=10,\n",
    "          validation_data=(test_data, y_test))\n",
    "\n",
    "\n",
    "#model.evaluate(test_data, labels_test)\n",
    "y_pred = model.predict_classes(test_data)\n",
    "\n",
    "y_test1 = list(y_test)\n",
    "f1_score_value = f1_score(y_test1,y_pred)\n",
    "print (\"f1_score-->\", f1_score_value)\n",
    "print (\" \")\n",
    "print (\"acc-->\", accuracy_score(y_test1,y_pred))\n",
    "print (\" \")\n",
    "print (\"confusion matrix\")\n",
    "print (confusion_matrix(y_test1,y_pred))"
   ]
  },
  {
   "cell_type": "code",
   "execution_count": null,
   "metadata": {},
   "outputs": [],
   "source": []
  }
 ],
 "metadata": {
  "kernelspec": {
   "display_name": "Python 3",
   "language": "python",
   "name": "python3"
  },
  "language_info": {
   "codemirror_mode": {
    "name": "ipython",
    "version": 3
   },
   "file_extension": ".py",
   "mimetype": "text/x-python",
   "name": "python",
   "nbconvert_exporter": "python",
   "pygments_lexer": "ipython3",
   "version": "3.5.2"
  }
 },
 "nbformat": 4,
 "nbformat_minor": 2
}
